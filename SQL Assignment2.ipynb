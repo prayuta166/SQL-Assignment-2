{
 "cells": [
  {
   "cell_type": "code",
   "execution_count": null,
   "id": "c63b1ddd",
   "metadata": {},
   "outputs": [],
   "source": [
    "import sqlite3"
   ]
  },
  {
   "cell_type": "code",
   "execution_count": null,
   "id": "56eb562c",
   "metadata": {},
   "outputs": [],
   "source": [
    "conn = sqlite3.connect('emaildb.sqlite')\n",
    "cur = conn.cursor()\n"
   ]
  },
  {
   "cell_type": "code",
   "execution_count": null,
   "id": "5df50703",
   "metadata": {},
   "outputs": [],
   "source": [
    "cursor.execute('''\n",
    "CREATE TABLE Counts (email TEXT, count INTIGER)''')\n",
    "\n",
    "fname = raw_input('Enter file name: ')\n",
    "if (len(fname) < 1) : fname = 'mbox.txt'\n",
    "    fh = open(fname)\n",
    "    for line in fh:\n",
    "        if not line.startswith('From: ') : continue\n",
    "            pieces = line.split()\n",
    "            email = pieces[1]\n",
    "            print email\n",
    "            cur.execute('SELECT count FROM Counts WHERE email = ? ',(email, ))\n",
    "            row = cur.fetchone()\n",
    "            if row is None:\n",
    "                cur.execute('''INSERT INTO Counts (email, count))\n",
    "                VALUES (?, 1)''', (email, ) )\n",
    "                else :\n",
    "                    cur.execute('UPDATE Counts SET count=count+1 WHERE email = ?',\n",
    "                         (email, ))\n",
    "print \"Counts:\""
   ]
  },
  {
   "cell_type": "code",
   "execution_count": null,
   "id": "af42792e",
   "metadata": {},
   "outputs": [],
   "source": [
    "for row in cur.execute(sqlstr) :\n",
    "    print str(row[0]), row[1]"
   ]
  },
  {
   "cell_type": "code",
   "execution_count": null,
   "id": "299316e5",
   "metadata": {},
   "outputs": [],
   "source": [
    "cur.close()"
   ]
  }
 ],
 "metadata": {
  "kernelspec": {
   "display_name": "Python 3 (ipykernel)",
   "language": "python",
   "name": "python3"
  },
  "language_info": {
   "codemirror_mode": {
    "name": "ipython",
    "version": 3
   },
   "file_extension": ".py",
   "mimetype": "text/x-python",
   "name": "python",
   "nbconvert_exporter": "python",
   "pygments_lexer": "ipython3",
   "version": "3.11.4"
  }
 },
 "nbformat": 4,
 "nbformat_minor": 5
}
